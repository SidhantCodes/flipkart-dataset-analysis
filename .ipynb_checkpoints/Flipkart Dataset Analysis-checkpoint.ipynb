{
 "cells": [
  {
   "cell_type": "code",
   "execution_count": 1,
   "id": "c2e45582",
   "metadata": {},
   "outputs": [],
   "source": [
    "import numpy as np \n",
    "import pandas as pd \n",
    "import matplotlib.pyplot as plt # visualizing data\n",
    "%matplotlib inline\n",
    "import seaborn as sns"
   ]
  },
  {
   "cell_type": "code",
   "execution_count": 2,
   "id": "f0377582",
   "metadata": {},
   "outputs": [],
   "source": [
    "df = pd.read_csv('flipkartdata.csv')"
   ]
  },
  {
   "cell_type": "code",
   "execution_count": 3,
   "id": "1e048222",
   "metadata": {},
   "outputs": [
    {
     "data": {
      "text/plain": [
       "(15730, 16)"
      ]
     },
     "execution_count": 3,
     "metadata": {},
     "output_type": "execute_result"
    }
   ],
   "source": [
    "df.shape"
   ]
  },
  {
   "cell_type": "code",
   "execution_count": 4,
   "id": "933fd981",
   "metadata": {},
   "outputs": [
    {
     "data": {
      "text/html": [
       "<div>\n",
       "<style scoped>\n",
       "    .dataframe tbody tr th:only-of-type {\n",
       "        vertical-align: middle;\n",
       "    }\n",
       "\n",
       "    .dataframe tbody tr th {\n",
       "        vertical-align: top;\n",
       "    }\n",
       "\n",
       "    .dataframe thead th {\n",
       "        text-align: right;\n",
       "    }\n",
       "</style>\n",
       "<table border=\"1\" class=\"dataframe\">\n",
       "  <thead>\n",
       "    <tr style=\"text-align: right;\">\n",
       "      <th></th>\n",
       "      <th>id</th>\n",
       "      <th>title</th>\n",
       "      <th>Rating</th>\n",
       "      <th>maincateg</th>\n",
       "      <th>platform</th>\n",
       "      <th>price1</th>\n",
       "      <th>actprice1</th>\n",
       "      <th>Offer %</th>\n",
       "      <th>norating1</th>\n",
       "      <th>noreviews1</th>\n",
       "      <th>star_5f</th>\n",
       "      <th>star_4f</th>\n",
       "      <th>star_3f</th>\n",
       "      <th>star_2f</th>\n",
       "      <th>star_1f</th>\n",
       "      <th>fulfilled1</th>\n",
       "    </tr>\n",
       "  </thead>\n",
       "  <tbody>\n",
       "    <tr>\n",
       "      <th>0</th>\n",
       "      <td>16695</td>\n",
       "      <td>Fashionable &amp; Comfortable Bellies For Women  (...</td>\n",
       "      <td>3.9</td>\n",
       "      <td>Women</td>\n",
       "      <td>Flipkart</td>\n",
       "      <td>698</td>\n",
       "      <td>999</td>\n",
       "      <td>30.13%</td>\n",
       "      <td>38.0</td>\n",
       "      <td>7.0</td>\n",
       "      <td>17.0</td>\n",
       "      <td>9.0</td>\n",
       "      <td>6.0</td>\n",
       "      <td>3</td>\n",
       "      <td>3</td>\n",
       "      <td>0</td>\n",
       "    </tr>\n",
       "    <tr>\n",
       "      <th>1</th>\n",
       "      <td>5120</td>\n",
       "      <td>Combo Pack of 4 Casual Shoes Sneakers For Men ...</td>\n",
       "      <td>3.8</td>\n",
       "      <td>Men</td>\n",
       "      <td>Flipkart</td>\n",
       "      <td>999</td>\n",
       "      <td>1999</td>\n",
       "      <td>50.03%</td>\n",
       "      <td>531.0</td>\n",
       "      <td>69.0</td>\n",
       "      <td>264.0</td>\n",
       "      <td>92.0</td>\n",
       "      <td>73.0</td>\n",
       "      <td>29</td>\n",
       "      <td>73</td>\n",
       "      <td>1</td>\n",
       "    </tr>\n",
       "    <tr>\n",
       "      <th>2</th>\n",
       "      <td>18391</td>\n",
       "      <td>Cilia Mode Leo Sneakers For Women  (White)</td>\n",
       "      <td>4.4</td>\n",
       "      <td>Women</td>\n",
       "      <td>Flipkart</td>\n",
       "      <td>2749</td>\n",
       "      <td>4999</td>\n",
       "      <td>45.01%</td>\n",
       "      <td>17.0</td>\n",
       "      <td>4.0</td>\n",
       "      <td>11.0</td>\n",
       "      <td>3.0</td>\n",
       "      <td>2.0</td>\n",
       "      <td>1</td>\n",
       "      <td>0</td>\n",
       "      <td>1</td>\n",
       "    </tr>\n",
       "    <tr>\n",
       "      <th>3</th>\n",
       "      <td>495</td>\n",
       "      <td>Men Black Sports Sandal</td>\n",
       "      <td>4.2</td>\n",
       "      <td>Men</td>\n",
       "      <td>Flipkart</td>\n",
       "      <td>518</td>\n",
       "      <td>724</td>\n",
       "      <td>15.85%</td>\n",
       "      <td>46413.0</td>\n",
       "      <td>6229.0</td>\n",
       "      <td>1045.0</td>\n",
       "      <td>12416.0</td>\n",
       "      <td>5352.0</td>\n",
       "      <td>701</td>\n",
       "      <td>4595</td>\n",
       "      <td>1</td>\n",
       "    </tr>\n",
       "    <tr>\n",
       "      <th>4</th>\n",
       "      <td>16408</td>\n",
       "      <td>Men Green Sports Sandal</td>\n",
       "      <td>3.9</td>\n",
       "      <td>Men</td>\n",
       "      <td>Flipkart</td>\n",
       "      <td>1379</td>\n",
       "      <td>2299</td>\n",
       "      <td>40.02%</td>\n",
       "      <td>77.0</td>\n",
       "      <td>3.0</td>\n",
       "      <td>35.0</td>\n",
       "      <td>21.0</td>\n",
       "      <td>7.0</td>\n",
       "      <td>7</td>\n",
       "      <td>7</td>\n",
       "      <td>1</td>\n",
       "    </tr>\n",
       "  </tbody>\n",
       "</table>\n",
       "</div>"
      ],
      "text/plain": [
       "      id                                              title  Rating maincateg  \\\n",
       "0  16695  Fashionable & Comfortable Bellies For Women  (...     3.9     Women   \n",
       "1   5120  Combo Pack of 4 Casual Shoes Sneakers For Men ...     3.8       Men   \n",
       "2  18391         Cilia Mode Leo Sneakers For Women  (White)     4.4     Women   \n",
       "3    495                            Men Black Sports Sandal     4.2       Men   \n",
       "4  16408                            Men Green Sports Sandal     3.9       Men   \n",
       "\n",
       "   platform  price1  actprice1 Offer %  norating1  noreviews1  star_5f  \\\n",
       "0  Flipkart     698        999  30.13%       38.0         7.0     17.0   \n",
       "1  Flipkart     999       1999  50.03%      531.0        69.0    264.0   \n",
       "2  Flipkart    2749       4999  45.01%       17.0         4.0     11.0   \n",
       "3  Flipkart     518        724  15.85%    46413.0      6229.0   1045.0   \n",
       "4  Flipkart    1379       2299  40.02%       77.0         3.0     35.0   \n",
       "\n",
       "   star_4f  star_3f  star_2f  star_1f  fulfilled1  \n",
       "0      9.0      6.0        3        3           0  \n",
       "1     92.0     73.0       29       73           1  \n",
       "2      3.0      2.0        1        0           1  \n",
       "3  12416.0   5352.0      701     4595           1  \n",
       "4     21.0      7.0        7        7           1  "
      ]
     },
     "execution_count": 4,
     "metadata": {},
     "output_type": "execute_result"
    }
   ],
   "source": [
    "df.head()"
   ]
  },
  {
   "cell_type": "code",
   "execution_count": 5,
   "id": "983d03c0",
   "metadata": {},
   "outputs": [
    {
     "name": "stdout",
     "output_type": "stream",
     "text": [
      "<class 'pandas.core.frame.DataFrame'>\n",
      "RangeIndex: 15730 entries, 0 to 15729\n",
      "Data columns (total 16 columns):\n",
      " #   Column      Non-Null Count  Dtype  \n",
      "---  ------      --------------  -----  \n",
      " 0   id          15730 non-null  int64  \n",
      " 1   title       15730 non-null  object \n",
      " 2   Rating      15730 non-null  float64\n",
      " 3   maincateg   15204 non-null  object \n",
      " 4   platform    15730 non-null  object \n",
      " 5   price1      15730 non-null  int64  \n",
      " 6   actprice1   15730 non-null  int64  \n",
      " 7   Offer %     15730 non-null  object \n",
      " 8   norating1   15052 non-null  float64\n",
      " 9   noreviews1  15152 non-null  float64\n",
      " 10  star_5f     15142 non-null  float64\n",
      " 11  star_4f     15191 non-null  float64\n",
      " 12  star_3f     15499 non-null  float64\n",
      " 13  star_2f     15730 non-null  int64  \n",
      " 14  star_1f     15730 non-null  int64  \n",
      " 15  fulfilled1  15730 non-null  int64  \n",
      "dtypes: float64(6), int64(6), object(4)\n",
      "memory usage: 1.9+ MB\n"
     ]
    }
   ],
   "source": [
    "df.info()"
   ]
  },
  {
   "cell_type": "code",
   "execution_count": 7,
   "id": "d86b16f7",
   "metadata": {},
   "outputs": [
    {
     "data": {
      "text/plain": [
       "id              0\n",
       "title           0\n",
       "Rating          0\n",
       "maincateg     526\n",
       "platform        0\n",
       "price1          0\n",
       "actprice1       0\n",
       "Offer %         0\n",
       "norating1     678\n",
       "noreviews1    578\n",
       "star_5f       588\n",
       "star_4f       539\n",
       "star_3f       231\n",
       "star_2f         0\n",
       "star_1f         0\n",
       "fulfilled1      0\n",
       "dtype: int64"
      ]
     },
     "execution_count": 7,
     "metadata": {},
     "output_type": "execute_result"
    }
   ],
   "source": [
    "pd.isnull(df).sum()"
   ]
  },
  {
   "cell_type": "code",
   "execution_count": 8,
   "id": "83d1e0f2",
   "metadata": {},
   "outputs": [],
   "source": [
    "df.dropna(inplace = True)"
   ]
  },
  {
   "cell_type": "code",
   "execution_count": 9,
   "id": "a2c07d6b",
   "metadata": {},
   "outputs": [
    {
     "data": {
      "text/plain": [
       "id            0\n",
       "title         0\n",
       "Rating        0\n",
       "maincateg     0\n",
       "platform      0\n",
       "price1        0\n",
       "actprice1     0\n",
       "Offer %       0\n",
       "norating1     0\n",
       "noreviews1    0\n",
       "star_5f       0\n",
       "star_4f       0\n",
       "star_3f       0\n",
       "star_2f       0\n",
       "star_1f       0\n",
       "fulfilled1    0\n",
       "dtype: int64"
      ]
     },
     "execution_count": 9,
     "metadata": {},
     "output_type": "execute_result"
    }
   ],
   "source": [
    "pd.isnull(df).sum()"
   ]
  },
  {
   "cell_type": "markdown",
   "id": "4a604149",
   "metadata": {},
   "source": [
    "Cleaned the data successfully"
   ]
  },
  {
   "cell_type": "code",
   "execution_count": 11,
   "id": "858f4bbf",
   "metadata": {},
   "outputs": [
    {
     "data": {
      "text/plain": [
       "Index(['id', 'title', 'Rating', 'maincateg', 'platform', 'price1', 'actprice1',\n",
       "       'Offer %', 'norating1', 'noreviews1', 'star_5f', 'star_4f', 'star_3f',\n",
       "       'star_2f', 'star_1f', 'fulfilled1'],\n",
       "      dtype='object')"
      ]
     },
     "execution_count": 11,
     "metadata": {},
     "output_type": "execute_result"
    }
   ],
   "source": [
    "df.columns"
   ]
  },
  {
   "cell_type": "code",
   "execution_count": 12,
   "id": "dba93c58",
   "metadata": {},
   "outputs": [],
   "source": [
    "df['Rating'] = df['Rating'].astype('float')"
   ]
  },
  {
   "cell_type": "code",
   "execution_count": 14,
   "id": "bfaa4114",
   "metadata": {},
   "outputs": [],
   "source": [
    "df['price1'] = df['price1'].astype('int')"
   ]
  },
  {
   "cell_type": "code",
   "execution_count": 15,
   "id": "ba736071",
   "metadata": {},
   "outputs": [],
   "source": [
    "df['actprice1'] = df['actprice1'].astype('int')"
   ]
  },
  {
   "cell_type": "code",
   "execution_count": 16,
   "id": "548babc2",
   "metadata": {},
   "outputs": [],
   "source": [
    "df['Offer %'] = df['Offer %'].str.rstrip('%').astype('float')"
   ]
  },
  {
   "cell_type": "code",
   "execution_count": 17,
   "id": "a8cb4a44",
   "metadata": {
    "scrolled": true
   },
   "outputs": [
    {
     "name": "stdout",
     "output_type": "stream",
     "text": [
      "<class 'pandas.core.frame.DataFrame'>\n",
      "Int64Index: 14945 entries, 0 to 15729\n",
      "Data columns (total 16 columns):\n",
      " #   Column      Non-Null Count  Dtype  \n",
      "---  ------      --------------  -----  \n",
      " 0   id          14945 non-null  int64  \n",
      " 1   title       14945 non-null  object \n",
      " 2   Rating      14945 non-null  float64\n",
      " 3   maincateg   14945 non-null  object \n",
      " 4   platform    14945 non-null  object \n",
      " 5   price1      14945 non-null  int32  \n",
      " 6   actprice1   14945 non-null  int32  \n",
      " 7   Offer %     14945 non-null  float64\n",
      " 8   norating1   14945 non-null  float64\n",
      " 9   noreviews1  14945 non-null  float64\n",
      " 10  star_5f     14945 non-null  float64\n",
      " 11  star_4f     14945 non-null  float64\n",
      " 12  star_3f     14945 non-null  float64\n",
      " 13  star_2f     14945 non-null  int64  \n",
      " 14  star_1f     14945 non-null  int64  \n",
      " 15  fulfilled1  14945 non-null  int64  \n",
      "dtypes: float64(7), int32(2), int64(4), object(3)\n",
      "memory usage: 1.8+ MB\n"
     ]
    }
   ],
   "source": [
    "df.info()"
   ]
  },
  {
   "cell_type": "code",
   "execution_count": 18,
   "id": "c8d9a81d",
   "metadata": {},
   "outputs": [],
   "source": [
    "df.drop(['fulfilled1'], axis = 1, inplace=True)"
   ]
  },
  {
   "cell_type": "code",
   "execution_count": 19,
   "id": "168f8a49",
   "metadata": {
    "scrolled": true
   },
   "outputs": [
    {
     "data": {
      "text/html": [
       "<div>\n",
       "<style scoped>\n",
       "    .dataframe tbody tr th:only-of-type {\n",
       "        vertical-align: middle;\n",
       "    }\n",
       "\n",
       "    .dataframe tbody tr th {\n",
       "        vertical-align: top;\n",
       "    }\n",
       "\n",
       "    .dataframe thead th {\n",
       "        text-align: right;\n",
       "    }\n",
       "</style>\n",
       "<table border=\"1\" class=\"dataframe\">\n",
       "  <thead>\n",
       "    <tr style=\"text-align: right;\">\n",
       "      <th></th>\n",
       "      <th>id</th>\n",
       "      <th>title</th>\n",
       "      <th>Rating</th>\n",
       "      <th>maincateg</th>\n",
       "      <th>platform</th>\n",
       "      <th>price1</th>\n",
       "      <th>actprice1</th>\n",
       "      <th>Offer %</th>\n",
       "      <th>norating1</th>\n",
       "      <th>noreviews1</th>\n",
       "      <th>star_5f</th>\n",
       "      <th>star_4f</th>\n",
       "      <th>star_3f</th>\n",
       "      <th>star_2f</th>\n",
       "      <th>star_1f</th>\n",
       "    </tr>\n",
       "  </thead>\n",
       "  <tbody>\n",
       "    <tr>\n",
       "      <th>0</th>\n",
       "      <td>16695</td>\n",
       "      <td>Fashionable &amp; Comfortable Bellies For Women  (...</td>\n",
       "      <td>3.9</td>\n",
       "      <td>Women</td>\n",
       "      <td>Flipkart</td>\n",
       "      <td>698</td>\n",
       "      <td>999</td>\n",
       "      <td>30.13</td>\n",
       "      <td>38.0</td>\n",
       "      <td>7.0</td>\n",
       "      <td>17.0</td>\n",
       "      <td>9.0</td>\n",
       "      <td>6.0</td>\n",
       "      <td>3</td>\n",
       "      <td>3</td>\n",
       "    </tr>\n",
       "    <tr>\n",
       "      <th>1</th>\n",
       "      <td>5120</td>\n",
       "      <td>Combo Pack of 4 Casual Shoes Sneakers For Men ...</td>\n",
       "      <td>3.8</td>\n",
       "      <td>Men</td>\n",
       "      <td>Flipkart</td>\n",
       "      <td>999</td>\n",
       "      <td>1999</td>\n",
       "      <td>50.03</td>\n",
       "      <td>531.0</td>\n",
       "      <td>69.0</td>\n",
       "      <td>264.0</td>\n",
       "      <td>92.0</td>\n",
       "      <td>73.0</td>\n",
       "      <td>29</td>\n",
       "      <td>73</td>\n",
       "    </tr>\n",
       "    <tr>\n",
       "      <th>2</th>\n",
       "      <td>18391</td>\n",
       "      <td>Cilia Mode Leo Sneakers For Women  (White)</td>\n",
       "      <td>4.4</td>\n",
       "      <td>Women</td>\n",
       "      <td>Flipkart</td>\n",
       "      <td>2749</td>\n",
       "      <td>4999</td>\n",
       "      <td>45.01</td>\n",
       "      <td>17.0</td>\n",
       "      <td>4.0</td>\n",
       "      <td>11.0</td>\n",
       "      <td>3.0</td>\n",
       "      <td>2.0</td>\n",
       "      <td>1</td>\n",
       "      <td>0</td>\n",
       "    </tr>\n",
       "    <tr>\n",
       "      <th>3</th>\n",
       "      <td>495</td>\n",
       "      <td>Men Black Sports Sandal</td>\n",
       "      <td>4.2</td>\n",
       "      <td>Men</td>\n",
       "      <td>Flipkart</td>\n",
       "      <td>518</td>\n",
       "      <td>724</td>\n",
       "      <td>15.85</td>\n",
       "      <td>46413.0</td>\n",
       "      <td>6229.0</td>\n",
       "      <td>1045.0</td>\n",
       "      <td>12416.0</td>\n",
       "      <td>5352.0</td>\n",
       "      <td>701</td>\n",
       "      <td>4595</td>\n",
       "    </tr>\n",
       "    <tr>\n",
       "      <th>4</th>\n",
       "      <td>16408</td>\n",
       "      <td>Men Green Sports Sandal</td>\n",
       "      <td>3.9</td>\n",
       "      <td>Men</td>\n",
       "      <td>Flipkart</td>\n",
       "      <td>1379</td>\n",
       "      <td>2299</td>\n",
       "      <td>40.02</td>\n",
       "      <td>77.0</td>\n",
       "      <td>3.0</td>\n",
       "      <td>35.0</td>\n",
       "      <td>21.0</td>\n",
       "      <td>7.0</td>\n",
       "      <td>7</td>\n",
       "      <td>7</td>\n",
       "    </tr>\n",
       "  </tbody>\n",
       "</table>\n",
       "</div>"
      ],
      "text/plain": [
       "      id                                              title  Rating maincateg  \\\n",
       "0  16695  Fashionable & Comfortable Bellies For Women  (...     3.9     Women   \n",
       "1   5120  Combo Pack of 4 Casual Shoes Sneakers For Men ...     3.8       Men   \n",
       "2  18391         Cilia Mode Leo Sneakers For Women  (White)     4.4     Women   \n",
       "3    495                            Men Black Sports Sandal     4.2       Men   \n",
       "4  16408                            Men Green Sports Sandal     3.9       Men   \n",
       "\n",
       "   platform  price1  actprice1  Offer %  norating1  noreviews1  star_5f  \\\n",
       "0  Flipkart     698        999    30.13       38.0         7.0     17.0   \n",
       "1  Flipkart     999       1999    50.03      531.0        69.0    264.0   \n",
       "2  Flipkart    2749       4999    45.01       17.0         4.0     11.0   \n",
       "3  Flipkart     518        724    15.85    46413.0      6229.0   1045.0   \n",
       "4  Flipkart    1379       2299    40.02       77.0         3.0     35.0   \n",
       "\n",
       "   star_4f  star_3f  star_2f  star_1f  \n",
       "0      9.0      6.0        3        3  \n",
       "1     92.0     73.0       29       73  \n",
       "2      3.0      2.0        1        0  \n",
       "3  12416.0   5352.0      701     4595  \n",
       "4     21.0      7.0        7        7  "
      ]
     },
     "execution_count": 19,
     "metadata": {},
     "output_type": "execute_result"
    }
   ],
   "source": [
    "df.head()"
   ]
  },
  {
   "cell_type": "code",
   "execution_count": 21,
   "id": "11d57310",
   "metadata": {},
   "outputs": [],
   "source": [
    "df.rename(columns = {'maincateg':'gender'}, inplace = True)"
   ]
  },
  {
   "cell_type": "code",
   "execution_count": 22,
   "id": "9f32aa9b",
   "metadata": {},
   "outputs": [
    {
     "data": {
      "text/html": [
       "<div>\n",
       "<style scoped>\n",
       "    .dataframe tbody tr th:only-of-type {\n",
       "        vertical-align: middle;\n",
       "    }\n",
       "\n",
       "    .dataframe tbody tr th {\n",
       "        vertical-align: top;\n",
       "    }\n",
       "\n",
       "    .dataframe thead th {\n",
       "        text-align: right;\n",
       "    }\n",
       "</style>\n",
       "<table border=\"1\" class=\"dataframe\">\n",
       "  <thead>\n",
       "    <tr style=\"text-align: right;\">\n",
       "      <th></th>\n",
       "      <th>id</th>\n",
       "      <th>title</th>\n",
       "      <th>Rating</th>\n",
       "      <th>gender</th>\n",
       "      <th>platform</th>\n",
       "      <th>price1</th>\n",
       "      <th>actprice1</th>\n",
       "      <th>Offer %</th>\n",
       "      <th>norating1</th>\n",
       "      <th>noreviews1</th>\n",
       "      <th>star_5f</th>\n",
       "      <th>star_4f</th>\n",
       "      <th>star_3f</th>\n",
       "      <th>star_2f</th>\n",
       "      <th>star_1f</th>\n",
       "    </tr>\n",
       "  </thead>\n",
       "  <tbody>\n",
       "    <tr>\n",
       "      <th>0</th>\n",
       "      <td>16695</td>\n",
       "      <td>Fashionable &amp; Comfortable Bellies For Women  (...</td>\n",
       "      <td>3.9</td>\n",
       "      <td>Women</td>\n",
       "      <td>Flipkart</td>\n",
       "      <td>698</td>\n",
       "      <td>999</td>\n",
       "      <td>30.13</td>\n",
       "      <td>38.0</td>\n",
       "      <td>7.0</td>\n",
       "      <td>17.0</td>\n",
       "      <td>9.0</td>\n",
       "      <td>6.0</td>\n",
       "      <td>3</td>\n",
       "      <td>3</td>\n",
       "    </tr>\n",
       "    <tr>\n",
       "      <th>1</th>\n",
       "      <td>5120</td>\n",
       "      <td>Combo Pack of 4 Casual Shoes Sneakers For Men ...</td>\n",
       "      <td>3.8</td>\n",
       "      <td>Men</td>\n",
       "      <td>Flipkart</td>\n",
       "      <td>999</td>\n",
       "      <td>1999</td>\n",
       "      <td>50.03</td>\n",
       "      <td>531.0</td>\n",
       "      <td>69.0</td>\n",
       "      <td>264.0</td>\n",
       "      <td>92.0</td>\n",
       "      <td>73.0</td>\n",
       "      <td>29</td>\n",
       "      <td>73</td>\n",
       "    </tr>\n",
       "    <tr>\n",
       "      <th>2</th>\n",
       "      <td>18391</td>\n",
       "      <td>Cilia Mode Leo Sneakers For Women  (White)</td>\n",
       "      <td>4.4</td>\n",
       "      <td>Women</td>\n",
       "      <td>Flipkart</td>\n",
       "      <td>2749</td>\n",
       "      <td>4999</td>\n",
       "      <td>45.01</td>\n",
       "      <td>17.0</td>\n",
       "      <td>4.0</td>\n",
       "      <td>11.0</td>\n",
       "      <td>3.0</td>\n",
       "      <td>2.0</td>\n",
       "      <td>1</td>\n",
       "      <td>0</td>\n",
       "    </tr>\n",
       "    <tr>\n",
       "      <th>3</th>\n",
       "      <td>495</td>\n",
       "      <td>Men Black Sports Sandal</td>\n",
       "      <td>4.2</td>\n",
       "      <td>Men</td>\n",
       "      <td>Flipkart</td>\n",
       "      <td>518</td>\n",
       "      <td>724</td>\n",
       "      <td>15.85</td>\n",
       "      <td>46413.0</td>\n",
       "      <td>6229.0</td>\n",
       "      <td>1045.0</td>\n",
       "      <td>12416.0</td>\n",
       "      <td>5352.0</td>\n",
       "      <td>701</td>\n",
       "      <td>4595</td>\n",
       "    </tr>\n",
       "    <tr>\n",
       "      <th>4</th>\n",
       "      <td>16408</td>\n",
       "      <td>Men Green Sports Sandal</td>\n",
       "      <td>3.9</td>\n",
       "      <td>Men</td>\n",
       "      <td>Flipkart</td>\n",
       "      <td>1379</td>\n",
       "      <td>2299</td>\n",
       "      <td>40.02</td>\n",
       "      <td>77.0</td>\n",
       "      <td>3.0</td>\n",
       "      <td>35.0</td>\n",
       "      <td>21.0</td>\n",
       "      <td>7.0</td>\n",
       "      <td>7</td>\n",
       "      <td>7</td>\n",
       "    </tr>\n",
       "  </tbody>\n",
       "</table>\n",
       "</div>"
      ],
      "text/plain": [
       "      id                                              title  Rating gender  \\\n",
       "0  16695  Fashionable & Comfortable Bellies For Women  (...     3.9  Women   \n",
       "1   5120  Combo Pack of 4 Casual Shoes Sneakers For Men ...     3.8    Men   \n",
       "2  18391         Cilia Mode Leo Sneakers For Women  (White)     4.4  Women   \n",
       "3    495                            Men Black Sports Sandal     4.2    Men   \n",
       "4  16408                            Men Green Sports Sandal     3.9    Men   \n",
       "\n",
       "   platform  price1  actprice1  Offer %  norating1  noreviews1  star_5f  \\\n",
       "0  Flipkart     698        999    30.13       38.0         7.0     17.0   \n",
       "1  Flipkart     999       1999    50.03      531.0        69.0    264.0   \n",
       "2  Flipkart    2749       4999    45.01       17.0         4.0     11.0   \n",
       "3  Flipkart     518        724    15.85    46413.0      6229.0   1045.0   \n",
       "4  Flipkart    1379       2299    40.02       77.0         3.0     35.0   \n",
       "\n",
       "   star_4f  star_3f  star_2f  star_1f  \n",
       "0      9.0      6.0        3        3  \n",
       "1     92.0     73.0       29       73  \n",
       "2      3.0      2.0        1        0  \n",
       "3  12416.0   5352.0      701     4595  \n",
       "4     21.0      7.0        7        7  "
      ]
     },
     "execution_count": 22,
     "metadata": {},
     "output_type": "execute_result"
    }
   ],
   "source": [
    "df.head()"
   ]
  },
  {
   "cell_type": "markdown",
   "id": "9f68a1e9",
   "metadata": {},
   "source": [
    "# Explanatory Data Analysis"
   ]
  },
  {
   "cell_type": "markdown",
   "id": "236dc7e4",
   "metadata": {},
   "source": [
    "We shall be analysing our data based on the parameters that what product was most frequently brought, which gender outnumbered the other in spending money on flipkart"
   ]
  },
  {
   "cell_type": "markdown",
   "id": "058219bd",
   "metadata": {},
   "source": [
    "On the basis of gender:"
   ]
  },
  {
   "cell_type": "code",
   "execution_count": 23,
   "id": "22011186",
   "metadata": {},
   "outputs": [
    {
     "data": {
      "image/png": "[encoded data removed]",
      "text/plain": [
       "<Figure size 640x480 with 1 Axes>"
      ]
     },
     "metadata": {},
     "output_type": "display_data"
    }
   ],
   "source": [
    "ax = sns.countplot(x = 'gender',data = df)\n",
    "\n",
    "for bars in ax.containers:\n",
    "    ax.bar_label(bars)"
   ]
  },
  {
   "cell_type": "code",
   "execution_count": 25,
   "id": "907f0d5f",
   "metadata": {
    "scrolled": false
   },
   "outputs": [
    {
     "data": {
      "text/plain": [
       "<Axes: xlabel='gender', ylabel='actprice1'>"
      ]
     },
     "execution_count": 25,
     "metadata": {},
     "output_type": "execute_result"
    },
    {
     "data": {
      "image/png": "[encoded data removed]",
      "text/plain": [
       "<Figure size 640x480 with 1 Axes>"
      ]
     },
     "metadata": {},
     "output_type": "display_data"
    }
   ],
   "source": [
    "sales = df.groupby(['gender'], as_index=False)['actprice1'].sum().sort_values(by='actprice1', ascending=False)\n",
    "sns.barplot(x = 'gender',y= 'actprice1' ,data = sales)"
   ]
  },
  {
   "cell_type": "code",
   "execution_count": 28,
   "id": "41783771",
   "metadata": {},
   "outputs": [
    {
     "data": {
      "text/plain": [
       "<Axes: xlabel='gender', ylabel='Rating'>"
      ]
     },
     "execution_count": 28,
     "metadata": {},
     "output_type": "execute_result"
    },
    {
     "data": {
      "image/png": "[encoded data removed]",
      "text/plain": [
       "<Figure size 640x480 with 1 Axes>"
      ]
     },
     "metadata": {},
     "output_type": "display_data"
    }
   ],
   "source": [
    "sales = df.groupby(['gender'], as_index=False)['Rating'].sum().sort_values(by='Rating', ascending=False)\n",
    "sns.barplot(x = 'gender',y= 'Rating' ,data = sales)"
   ]
  },
  {
   "cell_type": "code",
   "execution_count": 32,
   "id": "40d59f53",
   "metadata": {},
   "outputs": [
    {
     "data": {
      "text/plain": [
       "<Axes: xlabel='gender', ylabel='norating1'>"
      ]
     },
     "execution_count": 32,
     "metadata": {},
     "output_type": "execute_result"
    },
    {
     "data": {
      "image/png": "[encoded data removed]",
      "text/plain": [
       "<Figure size 640x480 with 1 Axes>"
      ]
     },
     "metadata": {},
     "output_type": "display_data"
    }
   ],
   "source": [
    "sales = df.groupby(['gender'], as_index=False)['norating1'].sum().sort_values(by='norating1', ascending=False)\n",
    "sns.barplot(x = 'gender',y= 'norating1' ,data = sales)"
   ]
  },
  {
   "cell_type": "code",
   "execution_count": 35,
   "id": "95785629",
   "metadata": {
    "scrolled": true
   },
   "outputs": [
    {
     "data": {
      "text/plain": [
       "<Axes: xlabel='gender', ylabel='noreviews1'>"
      ]
     },
     "execution_count": 35,
     "metadata": {},
     "output_type": "execute_result"
    },
    {
     "data": {
      "image/png": "[encoded data removed]",
      "text/plain": [
       "<Figure size 640x480 with 1 Axes>"
      ]
     },
     "metadata": {},
     "output_type": "display_data"
    }
   ],
   "source": [
    "sales = df.groupby(['gender'], as_index=False)['noreviews1'].sum().sort_values(by='noreviews1', ascending=False)\n",
    "sns.barplot(x = 'gender',y= 'noreviews1' ,data = sales)"
   ]
  },
  {
   "cell_type": "code",
   "execution_count": null,
   "id": "6bcf72a9",
   "metadata": {
    "scrolled": true
   },
   "outputs": [],
   "source": []
  }
 ],
 "metadata": {
  "kernelspec": {
   "display_name": "Python 3 (ipykernel)",
   "language": "python",
   "name": "python3"
  },
  "language_info": {
   "codemirror_mode": {
    "name": "ipython",
    "version": 3
   },
   "file_extension": ".py",
   "mimetype": "text/x-python",
   "name": "python",
   "nbconvert_exporter": "python",
   "pygments_lexer": "ipython3",
   "version": "3.11.3"
  }
 },
 "nbformat": 4,
 "nbformat_minor": 5
}
